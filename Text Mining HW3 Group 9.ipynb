{
 "cells": [
  {
   "cell_type": "markdown",
   "id": "operational-disposal",
   "metadata": {},
   "source": [
    "# Text Mining for Economics and Finance HW3 - Group 9\n",
    "\n",
    "## Andres Brito Barreiro, Hans-Christian Aarnio, Hao Yao, Steven Kingaby"
   ]
  },
  {
   "source": [
    "## Question 1"
   ],
   "cell_type": "code",
   "metadata": {},
   "execution_count": null,
   "outputs": []
  },
  {
   "cell_type": "markdown",
   "id": "narrow-ownership",
   "metadata": {},
   "source": [
    "The corpus includes 64,706 reviews of Amazon Digital Music products, from 1997 to 2014. The code below uses the LASSO, Naive Bayesian Classifier, and Multinomial Inverse Regressio models."
   ]
  },
  {
   "cell_type": "code",
   "execution_count": 9,
   "id": "following-finnish",
   "metadata": {},
   "outputs": [],
   "source": [
    "# Import the required packages\n",
    "from sklearn.naive_bayes import MultinomialNB\n",
    "import pandas as pd\n",
    "from nltk.corpus import stopwords\n",
    "from nltk.tokenize import sent_tokenize, word_tokenize \n",
    "from nltk.stem import PorterStemmer\n",
    "from nltk.stem import LancasterStemmer\n",
    "import re\n",
    "from sklearn.feature_extraction.text import CountVectorizer\n",
    "from sklearn.model_selection import train_test_split\n",
    "from sklearn.metrics import accuracy_score, precision_score, recall_score\n",
    "from sklearn.linear_model import LogisticRegressionCV\n",
    "from sklearn.feature_extraction.text import TfidfVectorizer\n",
    "from sklearn.preprocessing import StandardScaler\n",
    "import numpy as np\n",
    "from sklearn.model_selection import cross_val_score\n",
    "\n",
    "from nltk.corpus import stopwords"
   ]
  },
  {
   "cell_type": "code",
   "execution_count": 5,
   "id": "cosmetic-burton",
   "metadata": {},
   "outputs": [
    {
     "output_type": "execute_result",
     "data": {
      "text/plain": [
       "       Rating                                             Review  \\\n",
       "0         5.0  It's hard to believe \"Memory of Trees\" came ou...   \n",
       "1         5.0  A clasically-styled and introverted album, Mem...   \n",
       "2         5.0  I never thought Enya would reach the sublime h...   \n",
       "3         5.0  This is the third review of an irish album I w...   \n",
       "4         4.0  Enya, despite being a successful recording art...   \n",
       "...       ...                                                ...   \n",
       "64701     4.0  I like the reggae sound a lot in this song. I ...   \n",
       "64702     5.0  I first heard this on Sirius and had to have i...   \n",
       "64703     5.0  I absolutely love this song, it downloaded fin...   \n",
       "64704     3.0  Reggae, island beats aren't really my cup of t...   \n",
       "64705     1.0  Magic! is a Canadian band that incorporates re...   \n",
       "\n",
       "                            Summary       Time  \n",
       "0           Enya's last great album 2006-09-12  \n",
       "1          Enya at her most elegant 2001-06-03  \n",
       "2                   The best so far 2003-07-14  \n",
       "3      Ireland produces good music. 2000-05-03  \n",
       "4            4.5; music to dream to 2008-01-17  \n",
       "...                             ...        ...  \n",
       "64701                     Cool song 2014-06-24  \n",
       "64702                    Great Song 2014-07-09  \n",
       "64703                    Five Stars 2014-07-13  \n",
       "64704             Well-crafted song 2014-07-09  \n",
       "64705                Souless Reggae 2014-07-18  \n",
       "\n",
       "[64706 rows x 4 columns]"
      ],
      "text/html": "<div>\n<style scoped>\n    .dataframe tbody tr th:only-of-type {\n        vertical-align: middle;\n    }\n\n    .dataframe tbody tr th {\n        vertical-align: top;\n    }\n\n    .dataframe thead th {\n        text-align: right;\n    }\n</style>\n<table border=\"1\" class=\"dataframe\">\n  <thead>\n    <tr style=\"text-align: right;\">\n      <th></th>\n      <th>Rating</th>\n      <th>Review</th>\n      <th>Summary</th>\n      <th>Time</th>\n    </tr>\n  </thead>\n  <tbody>\n    <tr>\n      <th>0</th>\n      <td>5.0</td>\n      <td>It's hard to believe \"Memory of Trees\" came ou...</td>\n      <td>Enya's last great album</td>\n      <td>2006-09-12</td>\n    </tr>\n    <tr>\n      <th>1</th>\n      <td>5.0</td>\n      <td>A clasically-styled and introverted album, Mem...</td>\n      <td>Enya at her most elegant</td>\n      <td>2001-06-03</td>\n    </tr>\n    <tr>\n      <th>2</th>\n      <td>5.0</td>\n      <td>I never thought Enya would reach the sublime h...</td>\n      <td>The best so far</td>\n      <td>2003-07-14</td>\n    </tr>\n    <tr>\n      <th>3</th>\n      <td>5.0</td>\n      <td>This is the third review of an irish album I w...</td>\n      <td>Ireland produces good music.</td>\n      <td>2000-05-03</td>\n    </tr>\n    <tr>\n      <th>4</th>\n      <td>4.0</td>\n      <td>Enya, despite being a successful recording art...</td>\n      <td>4.5; music to dream to</td>\n      <td>2008-01-17</td>\n    </tr>\n    <tr>\n      <th>...</th>\n      <td>...</td>\n      <td>...</td>\n      <td>...</td>\n      <td>...</td>\n    </tr>\n    <tr>\n      <th>64701</th>\n      <td>4.0</td>\n      <td>I like the reggae sound a lot in this song. I ...</td>\n      <td>Cool song</td>\n      <td>2014-06-24</td>\n    </tr>\n    <tr>\n      <th>64702</th>\n      <td>5.0</td>\n      <td>I first heard this on Sirius and had to have i...</td>\n      <td>Great Song</td>\n      <td>2014-07-09</td>\n    </tr>\n    <tr>\n      <th>64703</th>\n      <td>5.0</td>\n      <td>I absolutely love this song, it downloaded fin...</td>\n      <td>Five Stars</td>\n      <td>2014-07-13</td>\n    </tr>\n    <tr>\n      <th>64704</th>\n      <td>3.0</td>\n      <td>Reggae, island beats aren't really my cup of t...</td>\n      <td>Well-crafted song</td>\n      <td>2014-07-09</td>\n    </tr>\n    <tr>\n      <th>64705</th>\n      <td>1.0</td>\n      <td>Magic! is a Canadian band that incorporates re...</td>\n      <td>Souless Reggae</td>\n      <td>2014-07-18</td>\n    </tr>\n  </tbody>\n</table>\n<p>64706 rows × 4 columns</p>\n</div>"
     },
     "metadata": {},
     "execution_count": 5
    }
   ],
   "source": [
    "# Load the dataset\n",
    "ratings = pd.read_csv('Digital_Music_new.csv')\n",
    "\n",
    "# Remove unnamed column as it's identical to the\n",
    "# dataframe's default index. Furthermore reformat `Time`\n",
    "# column values into datetime objects.\n",
    "ratings = ratings.drop('Unnamed: 0', axis = 1)\n",
    "ratings.Time = pd.to_datetime(ratings.Time, format = '%m %d, %Y')\n",
    "\n",
    "ratings"
   ]
  },
  {
   "cell_type": "markdown",
   "id": "organizational-spokesman",
   "metadata": {},
   "source": [
    "According to the ratings of these products, we could classify our sample into two sets, highly rated and poorly rated. To do this, we use np.where with the condition that the Rating is greater than or equal to 4 out of 5 to split the observation into two groups, highly rated sample and poorly rated sample. If the product is highly rated, the indicator is 1; otherwise, it's 0."
   ]
  },
  {
   "cell_type": "code",
   "execution_count": 6,
   "id": "monthly-lesbian",
   "metadata": {},
   "outputs": [
    {
     "output_type": "execute_result",
     "data": {
      "text/plain": [
       "       Rating                                             Review  \\\n",
       "0         5.0  It's hard to believe \"Memory of Trees\" came ou...   \n",
       "1         5.0  A clasically-styled and introverted album, Mem...   \n",
       "2         5.0  I never thought Enya would reach the sublime h...   \n",
       "3         5.0  This is the third review of an irish album I w...   \n",
       "4         4.0  Enya, despite being a successful recording art...   \n",
       "...       ...                                                ...   \n",
       "64701     4.0  I like the reggae sound a lot in this song. I ...   \n",
       "64702     5.0  I first heard this on Sirius and had to have i...   \n",
       "64703     5.0  I absolutely love this song, it downloaded fin...   \n",
       "64704     3.0  Reggae, island beats aren't really my cup of t...   \n",
       "64705     1.0  Magic! is a Canadian band that incorporates re...   \n",
       "\n",
       "                            Summary       Time  Indicator  \n",
       "0           Enya's last great album 2006-09-12          1  \n",
       "1          Enya at her most elegant 2001-06-03          1  \n",
       "2                   The best so far 2003-07-14          1  \n",
       "3      Ireland produces good music. 2000-05-03          1  \n",
       "4            4.5; music to dream to 2008-01-17          1  \n",
       "...                             ...        ...        ...  \n",
       "64701                     Cool song 2014-06-24          1  \n",
       "64702                    Great Song 2014-07-09          1  \n",
       "64703                    Five Stars 2014-07-13          1  \n",
       "64704             Well-crafted song 2014-07-09          0  \n",
       "64705                Souless Reggae 2014-07-18          0  \n",
       "\n",
       "[64706 rows x 5 columns]"
      ],
      "text/html": "<div>\n<style scoped>\n    .dataframe tbody tr th:only-of-type {\n        vertical-align: middle;\n    }\n\n    .dataframe tbody tr th {\n        vertical-align: top;\n    }\n\n    .dataframe thead th {\n        text-align: right;\n    }\n</style>\n<table border=\"1\" class=\"dataframe\">\n  <thead>\n    <tr style=\"text-align: right;\">\n      <th></th>\n      <th>Rating</th>\n      <th>Review</th>\n      <th>Summary</th>\n      <th>Time</th>\n      <th>Indicator</th>\n    </tr>\n  </thead>\n  <tbody>\n    <tr>\n      <th>0</th>\n      <td>5.0</td>\n      <td>It's hard to believe \"Memory of Trees\" came ou...</td>\n      <td>Enya's last great album</td>\n      <td>2006-09-12</td>\n      <td>1</td>\n    </tr>\n    <tr>\n      <th>1</th>\n      <td>5.0</td>\n      <td>A clasically-styled and introverted album, Mem...</td>\n      <td>Enya at her most elegant</td>\n      <td>2001-06-03</td>\n      <td>1</td>\n    </tr>\n    <tr>\n      <th>2</th>\n      <td>5.0</td>\n      <td>I never thought Enya would reach the sublime h...</td>\n      <td>The best so far</td>\n      <td>2003-07-14</td>\n      <td>1</td>\n    </tr>\n    <tr>\n      <th>3</th>\n      <td>5.0</td>\n      <td>This is the third review of an irish album I w...</td>\n      <td>Ireland produces good music.</td>\n      <td>2000-05-03</td>\n      <td>1</td>\n    </tr>\n    <tr>\n      <th>4</th>\n      <td>4.0</td>\n      <td>Enya, despite being a successful recording art...</td>\n      <td>4.5; music to dream to</td>\n      <td>2008-01-17</td>\n      <td>1</td>\n    </tr>\n    <tr>\n      <th>...</th>\n      <td>...</td>\n      <td>...</td>\n      <td>...</td>\n      <td>...</td>\n      <td>...</td>\n    </tr>\n    <tr>\n      <th>64701</th>\n      <td>4.0</td>\n      <td>I like the reggae sound a lot in this song. I ...</td>\n      <td>Cool song</td>\n      <td>2014-06-24</td>\n      <td>1</td>\n    </tr>\n    <tr>\n      <th>64702</th>\n      <td>5.0</td>\n      <td>I first heard this on Sirius and had to have i...</td>\n      <td>Great Song</td>\n      <td>2014-07-09</td>\n      <td>1</td>\n    </tr>\n    <tr>\n      <th>64703</th>\n      <td>5.0</td>\n      <td>I absolutely love this song, it downloaded fin...</td>\n      <td>Five Stars</td>\n      <td>2014-07-13</td>\n      <td>1</td>\n    </tr>\n    <tr>\n      <th>64704</th>\n      <td>3.0</td>\n      <td>Reggae, island beats aren't really my cup of t...</td>\n      <td>Well-crafted song</td>\n      <td>2014-07-09</td>\n      <td>0</td>\n    </tr>\n    <tr>\n      <th>64705</th>\n      <td>1.0</td>\n      <td>Magic! is a Canadian band that incorporates re...</td>\n      <td>Souless Reggae</td>\n      <td>2014-07-18</td>\n      <td>0</td>\n    </tr>\n  </tbody>\n</table>\n<p>64706 rows × 5 columns</p>\n</div>"
     },
     "metadata": {},
     "execution_count": 6
    }
   ],
   "source": [
    "ratings['Indicator'] = np.where(ratings['Rating'] >= 4.0, 1, 0)\n",
    "ratings"
   ]
  },
  {
   "cell_type": "code",
   "execution_count": null,
   "metadata": {},
   "outputs": [],
   "source": []
  },
  {
   "cell_type": "markdown",
   "id": "electronic-radius",
   "metadata": {},
   "source": [
    "## Question 2"
   ]
  },
  {
   "cell_type": "markdown",
   "id": "alert-cathedral",
   "metadata": {},
   "source": [
    "Now we continue with the usual steps of preprocessing the reviews and summary columns. First, we write a self-defined function on text preprocessing. Then, we need to collect the documents as corpus."
   ]
  },
  {
   "cell_type": "code",
   "execution_count": 10,
   "metadata": {},
   "outputs": [],
   "source": [
    "stopwords = set(stopwords.words(\"english\"))\n",
    "stemming = PorterStemmer()\n",
    "\n",
    "# Before tokenization it is useful to remove all words of length 1 and to make everything lowercase \n",
    "# and to remove words of length one.\n",
    "def remove_one_letter_words(document):\n",
    "    document.values[0] = re.sub(r'\\b[a-zA-Z]\\b', '', document.values[0]) \n",
    "\n",
    "    return document\n",
    "\n",
    "def clean_tokens(row, column_name):\n",
    "    documents = row[column_name] # converts the documents (i.e. report) column of BoE_data to row\n",
    "    tokens = nltk.word_tokenize(documents) # uses the word_tokenize function to tokenize each 'row', i.e. report\n",
    "    alpha_tokens = [w for w in tokens if w.isalpha()] # removes all non-alphabetic tokens\n",
    "    return alpha_tokens\n",
    "\n",
    "def remove_stopwords(row, column_name):\n",
    "    tokens = row[column_name] # converts the tokens column of new BoE_data to row\n",
    "    useful_words = [w for w in tokens if not w in stopwords] # takes only the words that are not in the stopwords set\n",
    "    return useful_words\n",
    "\n",
    "def create_stems(row, column_name):\n",
    "    stopwords_list = row[column_name] # converts the stopwords column of new BoE_data to row\n",
    "    stemmed_list = [stemming.stem(word) for word in stopwords_list] # stems each word in each BoE_data row\n",
    "    return stemmed_list\n",
    "\n",
    "# Creating clean data and turning our pre processed data into single strings for each report.\n",
    "def rejoin_words(row):\n",
    "    my_list = row['stems']\n",
    "    joined_words = ( \" \".join(my_list))\n",
    "    return joined_words\n",
    "\n",
    "def preprocess(raw_data):\n",
    "    raw_data = raw_data.apply(lambda document: document.astype(str).str.lower(), axis=1) # making everything lowercase\n",
    "    raw_data = raw_data.apply(lambda document: remove_one_letter_words(document), axis=1) # remove one letter words\n",
    "    raw_data['tokens'] = raw_data.apply(lambda x : clean_tokens(x, 'document'), axis=1)\n",
    "    raw_data['stopwords'] = raw_data.apply(lambda x : remove_stopwords(x, 'tokens'), axis=1)\n",
    "    raw_data['stems'] = raw_data.apply(lambda x : create_stems(x, 'stopwords'), axis=1)\n",
    "    raw_data['processed'] = raw_data.apply(rejoin_words, axis=1)\n",
    "\n",
    "    Clean up and remove columns that aren't needed in the long run.\n",
    "    raw_data = raw_data.drop(['tokens', 'stopwords', 'stems', 'document'], axis = 1)\n",
    "\n",
    "    return raw_data\n",
    "\n",
    "# paragraph_data = preprocess(paragraph_data)\n",
    "# print(paragraph_data)"
   ]
  },
  {
   "source": [
    "## Question 3"
   ],
   "cell_type": "markdown",
   "metadata": {}
  },
  {
   "source": [
    "## Question 4"
   ],
   "cell_type": "markdown",
   "metadata": {}
  },
  {
   "source": [
    "## Question 5"
   ],
   "cell_type": "markdown",
   "metadata": {}
  }
 ],
 "metadata": {
  "kernelspec": {
   "display_name": "Python 3",
   "language": "python",
   "name": "python3"
  },
  "language_info": {
   "codemirror_mode": {
    "name": "ipython",
    "version": 3
   },
   "file_extension": ".py",
   "mimetype": "text/x-python",
   "name": "python",
   "nbconvert_exporter": "python",
   "pygments_lexer": "ipython3",
   "version": "3.8.5-final"
  }
 },
 "nbformat": 4,
 "nbformat_minor": 5
}