{
 "cells": [
  {
   "cell_type": "markdown",
   "id": "operational-disposal",
   "metadata": {},
   "source": [
    "# Text Mining for Economics and Finance HW3 - Group 9\n",
    "\n",
    "## Andres Brito Barreiro, Hans-Christian Aarnio, Hao Yao, Steven Kingaby"
   ]
  },
  {
   "source": [
    "## Question 1"
   ],
   "cell_type": "markdown",
   "metadata": {}
  },
  {
   "cell_type": "markdown",
   "id": "narrow-ownership",
   "metadata": {},
   "source": [
    "The corpus includes 64,706 reviews of Amazon Digital Music products, from 1997 to 2014. The code below uses the LASSO, Naive Bayesian Classifier, and Multinomial Inverse Regressio models."
   ]
  },
  {
   "cell_type": "code",
   "execution_count": 6,
   "id": "following-finnish",
   "metadata": {},
   "outputs": [],
   "source": [
    "# Import the required packages\n",
    "from sklearn.naive_bayes import MultinomialNB\n",
    "import pandas as pd\n",
    "from nltk.corpus import stopwords\n",
    "from nltk.tokenize import sent_tokenize, word_tokenize \n",
    "from nltk.stem import PorterStemmer\n",
    "from nltk.stem import LancasterStemmer\n",
    "from nltk import word_tokenize\n",
    "import re\n",
    "from sklearn.feature_extraction.text import CountVectorizer\n",
    "from sklearn.model_selection import train_test_split\n",
    "from sklearn.metrics import accuracy_score, precision_score, recall_score\n",
    "from sklearn.linear_model import LogisticRegressionCV\n",
    "from sklearn.feature_extraction.text import TfidfVectorizer\n",
    "from sklearn.preprocessing import StandardScaler\n",
    "import numpy as np\n",
    "from sklearn.model_selection import cross_val_score"
   ]
  },
  {
   "cell_type": "code",
   "execution_count": 2,
   "id": "cosmetic-burton",
   "metadata": {},
   "outputs": [
    {
     "output_type": "execute_result",
     "data": {
      "text/plain": [
       "       Rating                                             Review  \\\n",
       "0         5.0  It's hard to believe \"Memory of Trees\" came ou...   \n",
       "1         5.0  A clasically-styled and introverted album, Mem...   \n",
       "2         5.0  I never thought Enya would reach the sublime h...   \n",
       "3         5.0  This is the third review of an irish album I w...   \n",
       "4         4.0  Enya, despite being a successful recording art...   \n",
       "...       ...                                                ...   \n",
       "64701     4.0  I like the reggae sound a lot in this song. I ...   \n",
       "64702     5.0  I first heard this on Sirius and had to have i...   \n",
       "64703     5.0  I absolutely love this song, it downloaded fin...   \n",
       "64704     3.0  Reggae, island beats aren't really my cup of t...   \n",
       "64705     1.0  Magic! is a Canadian band that incorporates re...   \n",
       "\n",
       "                            Summary       Time  \n",
       "0           Enya's last great album 2006-09-12  \n",
       "1          Enya at her most elegant 2001-06-03  \n",
       "2                   The best so far 2003-07-14  \n",
       "3      Ireland produces good music. 2000-05-03  \n",
       "4            4.5; music to dream to 2008-01-17  \n",
       "...                             ...        ...  \n",
       "64701                     Cool song 2014-06-24  \n",
       "64702                    Great Song 2014-07-09  \n",
       "64703                    Five Stars 2014-07-13  \n",
       "64704             Well-crafted song 2014-07-09  \n",
       "64705                Souless Reggae 2014-07-18  \n",
       "\n",
       "[64706 rows x 4 columns]"
      ],
      "text/html": "<div>\n<style scoped>\n    .dataframe tbody tr th:only-of-type {\n        vertical-align: middle;\n    }\n\n    .dataframe tbody tr th {\n        vertical-align: top;\n    }\n\n    .dataframe thead th {\n        text-align: right;\n    }\n</style>\n<table border=\"1\" class=\"dataframe\">\n  <thead>\n    <tr style=\"text-align: right;\">\n      <th></th>\n      <th>Rating</th>\n      <th>Review</th>\n      <th>Summary</th>\n      <th>Time</th>\n    </tr>\n  </thead>\n  <tbody>\n    <tr>\n      <th>0</th>\n      <td>5.0</td>\n      <td>It's hard to believe \"Memory of Trees\" came ou...</td>\n      <td>Enya's last great album</td>\n      <td>2006-09-12</td>\n    </tr>\n    <tr>\n      <th>1</th>\n      <td>5.0</td>\n      <td>A clasically-styled and introverted album, Mem...</td>\n      <td>Enya at her most elegant</td>\n      <td>2001-06-03</td>\n    </tr>\n    <tr>\n      <th>2</th>\n      <td>5.0</td>\n      <td>I never thought Enya would reach the sublime h...</td>\n      <td>The best so far</td>\n      <td>2003-07-14</td>\n    </tr>\n    <tr>\n      <th>3</th>\n      <td>5.0</td>\n      <td>This is the third review of an irish album I w...</td>\n      <td>Ireland produces good music.</td>\n      <td>2000-05-03</td>\n    </tr>\n    <tr>\n      <th>4</th>\n      <td>4.0</td>\n      <td>Enya, despite being a successful recording art...</td>\n      <td>4.5; music to dream to</td>\n      <td>2008-01-17</td>\n    </tr>\n    <tr>\n      <th>...</th>\n      <td>...</td>\n      <td>...</td>\n      <td>...</td>\n      <td>...</td>\n    </tr>\n    <tr>\n      <th>64701</th>\n      <td>4.0</td>\n      <td>I like the reggae sound a lot in this song. I ...</td>\n      <td>Cool song</td>\n      <td>2014-06-24</td>\n    </tr>\n    <tr>\n      <th>64702</th>\n      <td>5.0</td>\n      <td>I first heard this on Sirius and had to have i...</td>\n      <td>Great Song</td>\n      <td>2014-07-09</td>\n    </tr>\n    <tr>\n      <th>64703</th>\n      <td>5.0</td>\n      <td>I absolutely love this song, it downloaded fin...</td>\n      <td>Five Stars</td>\n      <td>2014-07-13</td>\n    </tr>\n    <tr>\n      <th>64704</th>\n      <td>3.0</td>\n      <td>Reggae, island beats aren't really my cup of t...</td>\n      <td>Well-crafted song</td>\n      <td>2014-07-09</td>\n    </tr>\n    <tr>\n      <th>64705</th>\n      <td>1.0</td>\n      <td>Magic! is a Canadian band that incorporates re...</td>\n      <td>Souless Reggae</td>\n      <td>2014-07-18</td>\n    </tr>\n  </tbody>\n</table>\n<p>64706 rows × 4 columns</p>\n</div>"
     },
     "metadata": {},
     "execution_count": 2
    }
   ],
   "source": [
    "# Load the dataset\n",
    "ratings_data = pd.read_csv('Digital_Music_new.csv')\n",
    "\n",
    "# Remove unnamed column as it's identical to the\n",
    "# dataframe's default index. Furthermore reformat `Time`\n",
    "# column values into datetime objects.\n",
    "ratings_data = ratings_data.drop('Unnamed: 0', axis = 1)\n",
    "ratings_data.Time = pd.to_datetime(ratings_data.Time, format = '%m %d, %Y')\n",
    "\n",
    "ratings_data"
   ]
  },
  {
   "cell_type": "markdown",
   "id": "organizational-spokesman",
   "metadata": {},
   "source": [
    "According to the ratings of these products, we could classify our sample into two sets, highly rated and poorly rated. To do this, we use np.where with the condition that the Rating is greater than or equal to 4 out of 5 to split the observation into two groups, highly rated sample and poorly rated sample. If the product is highly rated, the indicator is 1; otherwise, it's 0."
   ]
  },
  {
   "cell_type": "code",
   "execution_count": 3,
   "id": "monthly-lesbian",
   "metadata": {},
   "outputs": [
    {
     "output_type": "execute_result",
     "data": {
      "text/plain": [
       "       Rating                                             Review  \\\n",
       "0         5.0  It's hard to believe \"Memory of Trees\" came ou...   \n",
       "1         5.0  A clasically-styled and introverted album, Mem...   \n",
       "2         5.0  I never thought Enya would reach the sublime h...   \n",
       "3         5.0  This is the third review of an irish album I w...   \n",
       "4         4.0  Enya, despite being a successful recording art...   \n",
       "...       ...                                                ...   \n",
       "64701     4.0  I like the reggae sound a lot in this song. I ...   \n",
       "64702     5.0  I first heard this on Sirius and had to have i...   \n",
       "64703     5.0  I absolutely love this song, it downloaded fin...   \n",
       "64704     3.0  Reggae, island beats aren't really my cup of t...   \n",
       "64705     1.0  Magic! is a Canadian band that incorporates re...   \n",
       "\n",
       "                            Summary       Time  Highly Rated  \n",
       "0           Enya's last great album 2006-09-12             1  \n",
       "1          Enya at her most elegant 2001-06-03             1  \n",
       "2                   The best so far 2003-07-14             1  \n",
       "3      Ireland produces good music. 2000-05-03             1  \n",
       "4            4.5; music to dream to 2008-01-17             1  \n",
       "...                             ...        ...           ...  \n",
       "64701                     Cool song 2014-06-24             1  \n",
       "64702                    Great Song 2014-07-09             1  \n",
       "64703                    Five Stars 2014-07-13             1  \n",
       "64704             Well-crafted song 2014-07-09             0  \n",
       "64705                Souless Reggae 2014-07-18             0  \n",
       "\n",
       "[64706 rows x 5 columns]"
      ],
      "text/html": "<div>\n<style scoped>\n    .dataframe tbody tr th:only-of-type {\n        vertical-align: middle;\n    }\n\n    .dataframe tbody tr th {\n        vertical-align: top;\n    }\n\n    .dataframe thead th {\n        text-align: right;\n    }\n</style>\n<table border=\"1\" class=\"dataframe\">\n  <thead>\n    <tr style=\"text-align: right;\">\n      <th></th>\n      <th>Rating</th>\n      <th>Review</th>\n      <th>Summary</th>\n      <th>Time</th>\n      <th>Highly Rated</th>\n    </tr>\n  </thead>\n  <tbody>\n    <tr>\n      <th>0</th>\n      <td>5.0</td>\n      <td>It's hard to believe \"Memory of Trees\" came ou...</td>\n      <td>Enya's last great album</td>\n      <td>2006-09-12</td>\n      <td>1</td>\n    </tr>\n    <tr>\n      <th>1</th>\n      <td>5.0</td>\n      <td>A clasically-styled and introverted album, Mem...</td>\n      <td>Enya at her most elegant</td>\n      <td>2001-06-03</td>\n      <td>1</td>\n    </tr>\n    <tr>\n      <th>2</th>\n      <td>5.0</td>\n      <td>I never thought Enya would reach the sublime h...</td>\n      <td>The best so far</td>\n      <td>2003-07-14</td>\n      <td>1</td>\n    </tr>\n    <tr>\n      <th>3</th>\n      <td>5.0</td>\n      <td>This is the third review of an irish album I w...</td>\n      <td>Ireland produces good music.</td>\n      <td>2000-05-03</td>\n      <td>1</td>\n    </tr>\n    <tr>\n      <th>4</th>\n      <td>4.0</td>\n      <td>Enya, despite being a successful recording art...</td>\n      <td>4.5; music to dream to</td>\n      <td>2008-01-17</td>\n      <td>1</td>\n    </tr>\n    <tr>\n      <th>...</th>\n      <td>...</td>\n      <td>...</td>\n      <td>...</td>\n      <td>...</td>\n      <td>...</td>\n    </tr>\n    <tr>\n      <th>64701</th>\n      <td>4.0</td>\n      <td>I like the reggae sound a lot in this song. I ...</td>\n      <td>Cool song</td>\n      <td>2014-06-24</td>\n      <td>1</td>\n    </tr>\n    <tr>\n      <th>64702</th>\n      <td>5.0</td>\n      <td>I first heard this on Sirius and had to have i...</td>\n      <td>Great Song</td>\n      <td>2014-07-09</td>\n      <td>1</td>\n    </tr>\n    <tr>\n      <th>64703</th>\n      <td>5.0</td>\n      <td>I absolutely love this song, it downloaded fin...</td>\n      <td>Five Stars</td>\n      <td>2014-07-13</td>\n      <td>1</td>\n    </tr>\n    <tr>\n      <th>64704</th>\n      <td>3.0</td>\n      <td>Reggae, island beats aren't really my cup of t...</td>\n      <td>Well-crafted song</td>\n      <td>2014-07-09</td>\n      <td>0</td>\n    </tr>\n    <tr>\n      <th>64705</th>\n      <td>1.0</td>\n      <td>Magic! is a Canadian band that incorporates re...</td>\n      <td>Souless Reggae</td>\n      <td>2014-07-18</td>\n      <td>0</td>\n    </tr>\n  </tbody>\n</table>\n<p>64706 rows × 5 columns</p>\n</div>"
     },
     "metadata": {},
     "execution_count": 3
    }
   ],
   "source": [
    "ratings_data['Highly Rated'] = np.where(ratings_data['Rating'] >= 4.0, 1, 0)\n",
    "ratings_data"
   ]
  },
  {
   "cell_type": "code",
   "execution_count": null,
   "metadata": {},
   "outputs": [],
   "source": []
  },
  {
   "cell_type": "markdown",
   "id": "electronic-radius",
   "metadata": {},
   "source": [
    "## Question 2"
   ]
  },
  {
   "cell_type": "markdown",
   "id": "alert-cathedral",
   "metadata": {},
   "source": [
    "Now we continue with the usual steps of preprocessing the reviews and summary columns. First, we write a self-defined function on text preprocessing. Then, we need to collect the documents as corpus."
   ]
  },
  {
   "cell_type": "code",
   "execution_count": 4,
   "metadata": {},
   "outputs": [
    {
     "output_type": "execute_result",
     "data": {
      "text/plain": [
       "      Rating                                             Review  \\\n",
       "0        5.0  it's hard to believe \"memory of trees\" came ou...   \n",
       "1        5.0  a clasically-styled and introverted album, mem...   \n",
       "2        5.0  i never thought enya would reach the sublime h...   \n",
       "3        5.0  this is the third review of an irish album i w...   \n",
       "4        4.0  enya, despite being a successful recording art...   \n",
       "...      ...                                                ...   \n",
       "64701    4.0  i like the reggae sound a lot in this song. i ...   \n",
       "64702    5.0  i first heard this on sirius and had to have i...   \n",
       "64703    5.0  i absolutely love this song, it downloaded fin...   \n",
       "64704    3.0  reggae, island beats aren't really my cup of t...   \n",
       "64705    1.0  magic! is a canadian band that incorporates re...   \n",
       "\n",
       "                            Summary                 Time Highly Rated  \\\n",
       "0           enya's last great album  2006-09-12 00:00:00            1   \n",
       "1          enya at her most elegant  2001-06-03 00:00:00            1   \n",
       "2                   the best so far  2003-07-14 00:00:00            1   \n",
       "3      ireland produces good music.  2000-05-03 00:00:00            1   \n",
       "4            4.5; music to dream to  2008-01-17 00:00:00            1   \n",
       "...                             ...                  ...          ...   \n",
       "64701                     cool song  2014-06-24 00:00:00            1   \n",
       "64702                    great song  2014-07-09 00:00:00            1   \n",
       "64703                    five stars  2014-07-13 00:00:00            1   \n",
       "64704             well-crafted song  2014-07-09 00:00:00            0   \n",
       "64705                souless reggae  2014-07-18 00:00:00            0   \n",
       "\n",
       "                                     Preprocessed Review  \n",
       "0      hard believ memori tree came year ago held wel...  \n",
       "1      introvert album memori tree masterpiec subtlet...  \n",
       "2      never thought enya would reach sublim height e...  \n",
       "3      third review irish album write today other cra...  \n",
       "4      enya despit success record artist broad appeal...  \n",
       "...                                                  ...  \n",
       "64701  like regga sound lot song heard radio realli l...  \n",
       "64702  first heard siriu fun song ca help guy ask dad...  \n",
       "64703  absolut love song download fine would recommen...  \n",
       "64704  regga island beat realli cup team particularli...  \n",
       "64705  magic canadian band incorpor regga pop sound r...  \n",
       "\n",
       "[64706 rows x 6 columns]"
      ],
      "text/html": "<div>\n<style scoped>\n    .dataframe tbody tr th:only-of-type {\n        vertical-align: middle;\n    }\n\n    .dataframe tbody tr th {\n        vertical-align: top;\n    }\n\n    .dataframe thead th {\n        text-align: right;\n    }\n</style>\n<table border=\"1\" class=\"dataframe\">\n  <thead>\n    <tr style=\"text-align: right;\">\n      <th></th>\n      <th>Rating</th>\n      <th>Review</th>\n      <th>Summary</th>\n      <th>Time</th>\n      <th>Highly Rated</th>\n      <th>Preprocessed Review</th>\n    </tr>\n  </thead>\n  <tbody>\n    <tr>\n      <th>0</th>\n      <td>5.0</td>\n      <td>it's hard to believe \"memory of trees\" came ou...</td>\n      <td>enya's last great album</td>\n      <td>2006-09-12 00:00:00</td>\n      <td>1</td>\n      <td>hard believ memori tree came year ago held wel...</td>\n    </tr>\n    <tr>\n      <th>1</th>\n      <td>5.0</td>\n      <td>a clasically-styled and introverted album, mem...</td>\n      <td>enya at her most elegant</td>\n      <td>2001-06-03 00:00:00</td>\n      <td>1</td>\n      <td>introvert album memori tree masterpiec subtlet...</td>\n    </tr>\n    <tr>\n      <th>2</th>\n      <td>5.0</td>\n      <td>i never thought enya would reach the sublime h...</td>\n      <td>the best so far</td>\n      <td>2003-07-14 00:00:00</td>\n      <td>1</td>\n      <td>never thought enya would reach sublim height e...</td>\n    </tr>\n    <tr>\n      <th>3</th>\n      <td>5.0</td>\n      <td>this is the third review of an irish album i w...</td>\n      <td>ireland produces good music.</td>\n      <td>2000-05-03 00:00:00</td>\n      <td>1</td>\n      <td>third review irish album write today other cra...</td>\n    </tr>\n    <tr>\n      <th>4</th>\n      <td>4.0</td>\n      <td>enya, despite being a successful recording art...</td>\n      <td>4.5; music to dream to</td>\n      <td>2008-01-17 00:00:00</td>\n      <td>1</td>\n      <td>enya despit success record artist broad appeal...</td>\n    </tr>\n    <tr>\n      <th>...</th>\n      <td>...</td>\n      <td>...</td>\n      <td>...</td>\n      <td>...</td>\n      <td>...</td>\n      <td>...</td>\n    </tr>\n    <tr>\n      <th>64701</th>\n      <td>4.0</td>\n      <td>i like the reggae sound a lot in this song. i ...</td>\n      <td>cool song</td>\n      <td>2014-06-24 00:00:00</td>\n      <td>1</td>\n      <td>like regga sound lot song heard radio realli l...</td>\n    </tr>\n    <tr>\n      <th>64702</th>\n      <td>5.0</td>\n      <td>i first heard this on sirius and had to have i...</td>\n      <td>great song</td>\n      <td>2014-07-09 00:00:00</td>\n      <td>1</td>\n      <td>first heard siriu fun song ca help guy ask dad...</td>\n    </tr>\n    <tr>\n      <th>64703</th>\n      <td>5.0</td>\n      <td>i absolutely love this song, it downloaded fin...</td>\n      <td>five stars</td>\n      <td>2014-07-13 00:00:00</td>\n      <td>1</td>\n      <td>absolut love song download fine would recommen...</td>\n    </tr>\n    <tr>\n      <th>64704</th>\n      <td>3.0</td>\n      <td>reggae, island beats aren't really my cup of t...</td>\n      <td>well-crafted song</td>\n      <td>2014-07-09 00:00:00</td>\n      <td>0</td>\n      <td>regga island beat realli cup team particularli...</td>\n    </tr>\n    <tr>\n      <th>64705</th>\n      <td>1.0</td>\n      <td>magic! is a canadian band that incorporates re...</td>\n      <td>souless reggae</td>\n      <td>2014-07-18 00:00:00</td>\n      <td>0</td>\n      <td>magic canadian band incorpor regga pop sound r...</td>\n    </tr>\n  </tbody>\n</table>\n<p>64706 rows × 6 columns</p>\n</div>"
     },
     "metadata": {},
     "execution_count": 4
    }
   ],
   "source": [
    "stopwords = set(stopwords.words(\"english\"))\n",
    "stemming = PorterStemmer()\n",
    "\n",
    "# Before tokenization it is useful to remove all words of length 1 and to make everything lowercase \n",
    "# and to remove words of length one.\n",
    "def remove_one_letter_words(document):\n",
    "    document.values[0] = re.sub(r'\\b[a-zA-Z]\\b', '', document.values[0]) \n",
    "\n",
    "    return document\n",
    "\n",
    "def clean_tokens(row, column_name):\n",
    "    documents = row[column_name] # converts the documents (i.e. report) column of BoE_data to row\n",
    "    tokens = word_tokenize(documents) # uses the word_tokenize function to tokenize each 'row', i.e. report\n",
    "    alpha_tokens = [w for w in tokens if w.isalpha()] # removes all non-alphabetic tokens\n",
    "    return alpha_tokens\n",
    "\n",
    "def remove_stopwords(row, column_name):\n",
    "    tokens = row[column_name] # converts the tokens column of new BoE_data to row\n",
    "    useful_words = [w for w in tokens if not w in stopwords] # takes only the words that are not in the stopwords set\n",
    "    return useful_words\n",
    "\n",
    "def create_stems(row, column_name):\n",
    "    stopwords_list = row[column_name] # converts the stopwords column of new BoE_data to row\n",
    "    stemmed_list = [stemming.stem(word) for word in stopwords_list] # stems each word in each BoE_data row\n",
    "    return stemmed_list\n",
    "\n",
    "# Creating clean data and turning our pre processed data into single strings for each report.\n",
    "def rejoin_words(row):\n",
    "    my_list = row['stems']\n",
    "    joined_words = ( \" \".join(my_list))\n",
    "    return joined_words\n",
    "\n",
    "def preprocess(raw_data):\n",
    "    raw_data = raw_data.apply(lambda document: document.astype(str).str.lower(), axis=1) # making everything lowercase\n",
    "    raw_data = raw_data.apply(lambda document: remove_one_letter_words(document), axis=1) # remove one letter words\n",
    "    raw_data['tokens'] = raw_data.apply(lambda x : clean_tokens(x, 'Review'), axis=1)\n",
    "    raw_data['stopwords'] = raw_data.apply(lambda x : remove_stopwords(x, 'tokens'), axis=1)\n",
    "    raw_data['stems'] = raw_data.apply(lambda x : create_stems(x, 'stopwords'), axis=1)\n",
    "    raw_data['Preprocessed Review'] = raw_data.apply(rejoin_words, axis=1)\n",
    "\n",
    "    # Clean up and remove columns that aren't needed in the long run.\n",
    "    raw_data = raw_data.drop(['tokens', 'stopwords', 'stems'], axis = 1)\n",
    "\n",
    "    return raw_data\n",
    "\n",
    "ratings_data = preprocess(ratings_data)\n",
    "ratings_data"
   ]
  },
  {
   "cell_type": "code",
   "execution_count": 7,
   "metadata": {},
   "outputs": [
    {
     "output_type": "stream",
     "name": "stdout",
     "text": [
      "(64706, 17890)\n['1' '1' '1' ... '1' '0' '0']\n"
     ]
    }
   ],
   "source": [
    "from nltk.corpus import stopwords\n",
    "\n",
    "# Initialize count vectoriser and repurpose it for use in it for the \n",
    "count_vectorizer = CountVectorizer(min_df = 0.0001, stop_words=stopwords.words('english'))\n",
    "document_term_matrix = count_vectorizer.fit_transform(ratings_data['Preprocessed Review'])\n",
    "document_term_matrix = document_term_matrix.toarray()\n",
    "is_highly_rated = ratings_data['Highly Rated'].values\n",
    "\n",
    "print(document_term_matrix.shape)\n",
    "print(is_highly_rated)"
   ]
  },
  {
   "cell_type": "code",
   "execution_count": 8,
   "metadata": {},
   "outputs": [
    {
     "output_type": "stream",
     "name": "stdout",
     "text": [
      "(64696, 17890)\n(64696,)\n"
     ]
    }
   ],
   "source": [
    "# Rename variables to something more meaningful to\n",
    "# the context of model fitting, predicting, etc.\n",
    "X_set = document_term_matrix[10:]\n",
    "Y_set = is_highly_rated[10:]\n",
    "\n",
    "print(X_set.shape)\n",
    "print(Y_set.shape)\n",
    "\n",
    "# Set up training and test sets.\n",
    "# X_train, X_test, Y_train, Y_test = train_test_split(X_set, Y_set, test_size = 0.1, random_state = 1)"
   ]
  },
  {
   "cell_type": "code",
   "execution_count": 10,
   "metadata": {},
   "outputs": [
    {
     "output_type": "stream",
     "name": "stdout",
     "text": [
      "[1.000e-03 1.100e-02 2.100e-02 3.100e-02 4.100e-02 5.100e-02 6.100e-02\n 7.100e-02 8.100e-02 9.100e-02 1.010e-01 1.110e-01 1.210e-01 1.310e-01\n 1.410e-01 1.510e-01 1.610e-01 1.710e-01 1.810e-01 1.910e-01 2.010e-01\n 2.110e-01 2.210e-01 2.310e-01 2.410e-01 2.510e-01 2.610e-01 2.710e-01\n 2.810e-01 2.910e-01 3.010e-01 3.110e-01 3.210e-01 3.310e-01 3.410e-01\n 3.510e-01 3.610e-01 3.710e-01 3.810e-01 3.910e-01 4.010e-01 4.110e-01\n 4.210e-01 4.310e-01 4.410e-01 4.510e-01 4.610e-01 4.710e-01 4.810e-01\n 4.910e-01 5.010e-01 5.110e-01 5.210e-01 5.310e-01 5.410e-01 5.510e-01\n 5.610e-01 5.710e-01 5.810e-01 5.910e-01 6.010e-01 6.110e-01 6.210e-01\n 6.310e-01 6.410e-01 6.510e-01 6.610e-01 6.710e-01 6.810e-01 6.910e-01\n 7.010e-01 7.110e-01 7.210e-01 7.310e-01 7.410e-01 7.510e-01 7.610e-01\n 7.710e-01 7.810e-01 7.910e-01 8.010e-01 8.110e-01 8.210e-01 8.310e-01\n 8.410e-01 8.510e-01 8.610e-01 8.710e-01 8.810e-01 8.910e-01 9.010e-01\n 9.110e-01 9.210e-01 9.310e-01 9.410e-01 9.510e-01 9.610e-01 9.710e-01\n 9.810e-01 9.910e-01 1.001e+00 1.011e+00 1.021e+00 1.031e+00 1.041e+00\n 1.051e+00 1.061e+00 1.071e+00 1.081e+00 1.091e+00 1.101e+00 1.111e+00\n 1.121e+00 1.131e+00 1.141e+00 1.151e+00 1.161e+00 1.171e+00 1.181e+00\n 1.191e+00 1.201e+00 1.211e+00 1.221e+00 1.231e+00 1.241e+00 1.251e+00\n 1.261e+00 1.271e+00 1.281e+00 1.291e+00 1.301e+00 1.311e+00 1.321e+00\n 1.331e+00 1.341e+00 1.351e+00 1.361e+00 1.371e+00 1.381e+00 1.391e+00\n 1.401e+00 1.411e+00 1.421e+00 1.431e+00 1.441e+00 1.451e+00 1.461e+00\n 1.471e+00 1.481e+00 1.491e+00 1.501e+00 1.511e+00 1.521e+00 1.531e+00\n 1.541e+00 1.551e+00 1.561e+00 1.571e+00 1.581e+00 1.591e+00 1.601e+00\n 1.611e+00 1.621e+00 1.631e+00 1.641e+00 1.651e+00 1.661e+00 1.671e+00\n 1.681e+00 1.691e+00 1.701e+00 1.711e+00 1.721e+00 1.731e+00 1.741e+00\n 1.751e+00 1.761e+00 1.771e+00 1.781e+00 1.791e+00 1.801e+00 1.811e+00\n 1.821e+00 1.831e+00 1.841e+00 1.851e+00 1.861e+00 1.871e+00 1.881e+00\n 1.891e+00 1.901e+00 1.911e+00 1.921e+00 1.931e+00 1.941e+00 1.951e+00\n 1.961e+00 1.971e+00 1.981e+00 1.991e+00]\n"
     ]
    }
   ],
   "source": [
    "print(np.arange(0.001,2,0.01))\n"
   ]
  },
  {
   "source": [
    "## Question 3"
   ],
   "cell_type": "markdown",
   "metadata": {}
  },
  {
   "cell_type": "code",
   "execution_count": 49,
   "metadata": {},
   "outputs": [
    {
     "output_type": "error",
     "ename": "KeyboardInterrupt",
     "evalue": "",
     "traceback": [
      "\u001b[0;31m---------------------------------------------------------------------------\u001b[0m",
      "\u001b[0;31mKeyboardInterrupt\u001b[0m                         Traceback (most recent call last)",
      "\u001b[0;32m<ipython-input-49-5b3bca79031a>\u001b[0m in \u001b[0;36m<module>\u001b[0;34m\u001b[0m\n\u001b[1;32m      1\u001b[0m \u001b[0mnaive_bayes_model\u001b[0m \u001b[0;34m=\u001b[0m \u001b[0mMultinomialNB\u001b[0m\u001b[0;34m(\u001b[0m\u001b[0;34m)\u001b[0m\u001b[0;34m\u001b[0m\u001b[0;34m\u001b[0m\u001b[0m\n\u001b[0;32m----> 2\u001b[0;31m \u001b[0mnaive_bayes_model\u001b[0m\u001b[0;34m.\u001b[0m\u001b[0mfit\u001b[0m\u001b[0;34m(\u001b[0m\u001b[0mX_train\u001b[0m\u001b[0;34m,\u001b[0m \u001b[0mY_train\u001b[0m\u001b[0;34m)\u001b[0m\u001b[0;34m\u001b[0m\u001b[0;34m\u001b[0m\u001b[0m\n\u001b[0m\u001b[1;32m      3\u001b[0m \u001b[0mY_predicted\u001b[0m \u001b[0;34m=\u001b[0m \u001b[0mnaive_bayes_model\u001b[0m\u001b[0;34m.\u001b[0m\u001b[0mpredict\u001b[0m\u001b[0;34m(\u001b[0m\u001b[0mX_test\u001b[0m\u001b[0;34m)\u001b[0m \u001b[0;31m# TODO: Is this even needed?\u001b[0m\u001b[0;34m\u001b[0m\u001b[0;34m\u001b[0m\u001b[0m\n",
      "\u001b[0;32m/Library/Frameworks/Python.framework/Versions/3.8/lib/python3.8/site-packages/sklearn/naive_bayes.py\u001b[0m in \u001b[0;36mfit\u001b[0;34m(self, X, y, sample_weight)\u001b[0m\n\u001b[1;32m    636\u001b[0m \u001b[0;34m\u001b[0m\u001b[0m\n\u001b[1;32m    637\u001b[0m         \u001b[0mself\u001b[0m\u001b[0;34m.\u001b[0m\u001b[0m_init_counters\u001b[0m\u001b[0;34m(\u001b[0m\u001b[0mn_effective_classes\u001b[0m\u001b[0;34m,\u001b[0m \u001b[0mn_features\u001b[0m\u001b[0;34m)\u001b[0m\u001b[0;34m\u001b[0m\u001b[0;34m\u001b[0m\u001b[0m\n\u001b[0;32m--> 638\u001b[0;31m         \u001b[0mself\u001b[0m\u001b[0;34m.\u001b[0m\u001b[0m_count\u001b[0m\u001b[0;34m(\u001b[0m\u001b[0mX\u001b[0m\u001b[0;34m,\u001b[0m \u001b[0mY\u001b[0m\u001b[0;34m)\u001b[0m\u001b[0;34m\u001b[0m\u001b[0;34m\u001b[0m\u001b[0m\n\u001b[0m\u001b[1;32m    639\u001b[0m         \u001b[0malpha\u001b[0m \u001b[0;34m=\u001b[0m \u001b[0mself\u001b[0m\u001b[0;34m.\u001b[0m\u001b[0m_check_alpha\u001b[0m\u001b[0;34m(\u001b[0m\u001b[0;34m)\u001b[0m\u001b[0;34m\u001b[0m\u001b[0;34m\u001b[0m\u001b[0m\n\u001b[1;32m    640\u001b[0m         \u001b[0mself\u001b[0m\u001b[0;34m.\u001b[0m\u001b[0m_update_feature_log_prob\u001b[0m\u001b[0;34m(\u001b[0m\u001b[0malpha\u001b[0m\u001b[0;34m)\u001b[0m\u001b[0;34m\u001b[0m\u001b[0;34m\u001b[0m\u001b[0m\n",
      "\u001b[0;32m/Library/Frameworks/Python.framework/Versions/3.8/lib/python3.8/site-packages/sklearn/naive_bayes.py\u001b[0m in \u001b[0;36m_count\u001b[0;34m(self, X, Y)\u001b[0m\n\u001b[1;32m    769\u001b[0m     \u001b[0;32mdef\u001b[0m \u001b[0m_count\u001b[0m\u001b[0;34m(\u001b[0m\u001b[0mself\u001b[0m\u001b[0;34m,\u001b[0m \u001b[0mX\u001b[0m\u001b[0;34m,\u001b[0m \u001b[0mY\u001b[0m\u001b[0;34m)\u001b[0m\u001b[0;34m:\u001b[0m\u001b[0;34m\u001b[0m\u001b[0;34m\u001b[0m\u001b[0m\n\u001b[1;32m    770\u001b[0m         \u001b[0;34m\"\"\"Count and smooth feature occurrences.\"\"\"\u001b[0m\u001b[0;34m\u001b[0m\u001b[0;34m\u001b[0m\u001b[0m\n\u001b[0;32m--> 771\u001b[0;31m         \u001b[0mcheck_non_negative\u001b[0m\u001b[0;34m(\u001b[0m\u001b[0mX\u001b[0m\u001b[0;34m,\u001b[0m \u001b[0;34m\"MultinomialNB (input X)\"\u001b[0m\u001b[0;34m)\u001b[0m\u001b[0;34m\u001b[0m\u001b[0;34m\u001b[0m\u001b[0m\n\u001b[0m\u001b[1;32m    772\u001b[0m         \u001b[0mself\u001b[0m\u001b[0;34m.\u001b[0m\u001b[0mfeature_count_\u001b[0m \u001b[0;34m+=\u001b[0m \u001b[0msafe_sparse_dot\u001b[0m\u001b[0;34m(\u001b[0m\u001b[0mY\u001b[0m\u001b[0;34m.\u001b[0m\u001b[0mT\u001b[0m\u001b[0;34m,\u001b[0m \u001b[0mX\u001b[0m\u001b[0;34m)\u001b[0m\u001b[0;34m\u001b[0m\u001b[0;34m\u001b[0m\u001b[0m\n\u001b[1;32m    773\u001b[0m         \u001b[0mself\u001b[0m\u001b[0;34m.\u001b[0m\u001b[0mclass_count_\u001b[0m \u001b[0;34m+=\u001b[0m \u001b[0mY\u001b[0m\u001b[0;34m.\u001b[0m\u001b[0msum\u001b[0m\u001b[0;34m(\u001b[0m\u001b[0maxis\u001b[0m\u001b[0;34m=\u001b[0m\u001b[0;36m0\u001b[0m\u001b[0;34m)\u001b[0m\u001b[0;34m\u001b[0m\u001b[0;34m\u001b[0m\u001b[0m\n",
      "\u001b[0;32m/Library/Frameworks/Python.framework/Versions/3.8/lib/python3.8/site-packages/sklearn/utils/validation.py\u001b[0m in \u001b[0;36mcheck_non_negative\u001b[0;34m(X, whom)\u001b[0m\n\u001b[1;32m   1063\u001b[0m             \u001b[0mX_min\u001b[0m \u001b[0;34m=\u001b[0m \u001b[0mX\u001b[0m\u001b[0;34m.\u001b[0m\u001b[0mdata\u001b[0m\u001b[0;34m.\u001b[0m\u001b[0mmin\u001b[0m\u001b[0;34m(\u001b[0m\u001b[0;34m)\u001b[0m\u001b[0;34m\u001b[0m\u001b[0;34m\u001b[0m\u001b[0m\n\u001b[1;32m   1064\u001b[0m     \u001b[0;32melse\u001b[0m\u001b[0;34m:\u001b[0m\u001b[0;34m\u001b[0m\u001b[0;34m\u001b[0m\u001b[0m\n\u001b[0;32m-> 1065\u001b[0;31m         \u001b[0mX_min\u001b[0m \u001b[0;34m=\u001b[0m \u001b[0mX\u001b[0m\u001b[0;34m.\u001b[0m\u001b[0mmin\u001b[0m\u001b[0;34m(\u001b[0m\u001b[0;34m)\u001b[0m\u001b[0;34m\u001b[0m\u001b[0;34m\u001b[0m\u001b[0m\n\u001b[0m\u001b[1;32m   1066\u001b[0m \u001b[0;34m\u001b[0m\u001b[0m\n\u001b[1;32m   1067\u001b[0m     \u001b[0;32mif\u001b[0m \u001b[0mX_min\u001b[0m \u001b[0;34m<\u001b[0m \u001b[0;36m0\u001b[0m\u001b[0;34m:\u001b[0m\u001b[0;34m\u001b[0m\u001b[0;34m\u001b[0m\u001b[0m\n",
      "\u001b[0;32m/Library/Frameworks/Python.framework/Versions/3.8/lib/python3.8/site-packages/numpy/core/_methods.py\u001b[0m in \u001b[0;36m_amin\u001b[0;34m(a, axis, out, keepdims, initial, where)\u001b[0m\n\u001b[1;32m     41\u001b[0m def _amin(a, axis=None, out=None, keepdims=False,\n\u001b[1;32m     42\u001b[0m           initial=_NoValue, where=True):\n\u001b[0;32m---> 43\u001b[0;31m     \u001b[0;32mreturn\u001b[0m \u001b[0mumr_minimum\u001b[0m\u001b[0;34m(\u001b[0m\u001b[0ma\u001b[0m\u001b[0;34m,\u001b[0m \u001b[0maxis\u001b[0m\u001b[0;34m,\u001b[0m \u001b[0;32mNone\u001b[0m\u001b[0;34m,\u001b[0m \u001b[0mout\u001b[0m\u001b[0;34m,\u001b[0m \u001b[0mkeepdims\u001b[0m\u001b[0;34m,\u001b[0m \u001b[0minitial\u001b[0m\u001b[0;34m,\u001b[0m \u001b[0mwhere\u001b[0m\u001b[0;34m)\u001b[0m\u001b[0;34m\u001b[0m\u001b[0;34m\u001b[0m\u001b[0m\n\u001b[0m\u001b[1;32m     44\u001b[0m \u001b[0;34m\u001b[0m\u001b[0m\n\u001b[1;32m     45\u001b[0m def _sum(a, axis=None, dtype=None, out=None, keepdims=False,\n",
      "\u001b[0;31mKeyboardInterrupt\u001b[0m: "
     ]
    }
   ],
   "source": [
    "naive_bayes_model = MultinomialNB()\n",
    "naive_bayes_model.fit(X_train, Y_train)\n",
    "Y_predicted = naive_bayes_model.predict(X_test) # TODO: Is this even needed?"
   ]
  },
  {
   "source": [
    "TODO: \"Devise a metric that identifies the terms most associated with each class label. How do these terms compare to those you identified in the previous equation?\""
   ],
   "cell_type": "markdown",
   "metadata": {}
  },
  {
   "source": [
    "## Question 4"
   ],
   "cell_type": "markdown",
   "metadata": {}
  },
  {
   "cell_type": "code",
   "execution_count": null,
   "metadata": {},
   "outputs": [],
   "source": [
    "print('TODO')"
   ]
  },
  {
   "source": [
    "## Question 5"
   ],
   "cell_type": "markdown",
   "metadata": {}
  },
  {
   "cell_type": "code",
   "execution_count": 41,
   "metadata": {},
   "outputs": [
    {
     "output_type": "stream",
     "name": "stdout",
     "text": [
      "(58235, 17890)\n(6471, 17890)\n"
     ]
    }
   ],
   "source": [
    "X_train, X_test, Y_train, Y_test = train_test_split(X_set, Y_set, test_size = 0.1, random_state = 1)\n",
    "\n",
    "print(X_train.shape)\n",
    "print(X_test.shape)"
   ]
  },
  {
   "cell_type": "code",
   "execution_count": null,
   "metadata": {},
   "outputs": [],
   "source": []
  }
 ],
 "metadata": {
  "kernelspec": {
   "display_name": "Python 3",
   "language": "python",
   "name": "python3"
  },
  "language_info": {
   "codemirror_mode": {
    "name": "ipython",
    "version": 3
   },
   "file_extension": ".py",
   "mimetype": "text/x-python",
   "name": "python",
   "nbconvert_exporter": "python",
   "pygments_lexer": "ipython3",
   "version": "3.8.5-final"
  }
 },
 "nbformat": 4,
 "nbformat_minor": 5
}